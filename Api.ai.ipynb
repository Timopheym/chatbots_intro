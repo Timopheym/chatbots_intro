{
 "cells": [
  {
   "cell_type": "code",
   "execution_count": 1,
   "metadata": {
    "collapsed": false
   },
   "outputs": [
    {
     "name": "stdout",
     "output_type": "stream",
     "text": [
      "Collecting apiai\n",
      "  Using cached apiai-1.0.2-py2.py3-none-any.whl\n",
      "Requirement already satisfied (use --upgrade to upgrade): numpy in /usr/local/lib/python3.5/site-packages (from apiai)\n",
      "Installing collected packages: apiai\n",
      "Successfully installed apiai-1.0.2\n",
      "\u001b[33mYou are using pip version 8.1.1, however version 8.1.2 is available.\n",
      "You should consider upgrading via the 'pip install --upgrade pip' command.\u001b[0m\n"
     ]
    }
   ],
   "source": [
    "!pip3 install apiai"
   ]
  },
  {
   "cell_type": "code",
   "execution_count": 1,
   "metadata": {
    "collapsed": false
   },
   "outputs": [],
   "source": [
    "import os.path\n",
    "import sys\n",
    "import json\n",
    "from urllib.request import urlopen\n",
    " \n",
    "try:\n",
    "    import apiai\n",
    "except ImportError:\n",
    "    sys.path.append(\n",
    "        os.path.join(os.path.dirname(os.path.realpath(__file__)), os.pardir)\n",
    "    )\n",
    "    import apiai\n",
    "\n",
    "CLIENT_ACCESS_TOKEN = '04b2546fcf6a47098d2808b5b7646b33'"
   ]
  },
  {
   "cell_type": "code",
   "execution_count": 2,
   "metadata": {
    "collapsed": false
   },
   "outputs": [
    {
     "data": {
      "text/plain": [
       "{'id': 'f12f4018-434b-4acd-85db-7c9817e80e7a',\n",
       " 'result': {'action': 'hello',\n",
       "  'actionIncomplete': False,\n",
       "  'contexts': [{'lifespan': 5,\n",
       "    'name': 'hello',\n",
       "    'parameters': {'hello': 'Привет',\n",
       "     'hello.original': 'Привет',\n",
       "     'name': '',\n",
       "     'name.original': ''}}],\n",
       "  'fulfillment': {'speech': 'Привет-привет... я Локи. Как дела?'},\n",
       "  'metadata': {'intentId': 'b0cf93d1-dfa4-47f4-bca4-9acd2bf367c1',\n",
       "   'intentName': 'Приветствие',\n",
       "   'webhookUsed': 'false'},\n",
       "  'parameters': {'hello': 'Привет', 'name': ''},\n",
       "  'resolvedQuery': 'Привет',\n",
       "  'score': 1.0,\n",
       "  'source': 'agent'},\n",
       " 'sessionId': '897d5fc6b4c7469aa00e24f340ca202e',\n",
       " 'status': {'code': 200, 'errorType': 'success'},\n",
       " 'timestamp': '2016-06-29T22:19:13.596Z'}"
      ]
     },
     "execution_count": 2,
     "metadata": {},
     "output_type": "execute_result"
    }
   ],
   "source": [
    "ai = apiai.ApiAI(CLIENT_ACCESS_TOKEN)\n",
    "\n",
    "request = ai.text_request()\n",
    "\n",
    "request.lang = 'ru'  # optional, default value equal 'en'\n",
    "\n",
    "request.query = \"Привет\"\n",
    "\n",
    "response = request.getresponse()\n",
    "\n",
    "# print(json.dumps(response.read(), indent=2))\n",
    "\n",
    "response = response.read().decode('utf8')\n",
    "obj = json.loads(response)\n",
    "obj"
   ]
  }
 ],
 "metadata": {
  "kernelspec": {
   "display_name": "Python 3",
   "language": "python",
   "name": "python3"
  },
  "language_info": {
   "codemirror_mode": {
    "name": "ipython",
    "version": 3
   },
   "file_extension": ".py",
   "mimetype": "text/x-python",
   "name": "python",
   "nbconvert_exporter": "python",
   "pygments_lexer": "ipython3",
   "version": "3.5.0"
  }
 },
 "nbformat": 4,
 "nbformat_minor": 0
}
