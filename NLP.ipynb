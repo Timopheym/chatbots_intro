{
 "cells": [
  {
   "cell_type": "code",
   "execution_count": 46,
   "metadata": {
    "collapsed": false
   },
   "outputs": [
    {
     "name": "stdout",
     "output_type": "stream",
     "text": [
      "name:             code: ar       confidence:  99.0 read bytes:   907\n"
     ]
    }
   ],
   "source": [
    "from polyglot.detect import Detector\n",
    "#Определение языка\n",
    "arabic_text = u\"\"\"\n",
    "أفاد مصدر امني في قيادة عمليات صلاح الدين في العراق بأن \" القوات الامنية تتوقف لليوم\n",
    "الثالث على التوالي عن التقدم الى داخل مدينة تكريت بسبب\n",
    "انتشار قناصي التنظيم الذي يطلق على نفسه اسم \"الدولة الاسلامية\" والعبوات الناسفة\n",
    "والمنازل المفخخة والانتحاريين، فضلا عن ان القوات الامنية تنتظر وصول تعزيزات اضافية \".\n",
    "\"\"\"\n",
    "detector = Detector(arabic_text)\n",
    "print(detector.language)"
   ]
  },
  {
   "cell_type": "code",
   "execution_count": 47,
   "metadata": {
    "collapsed": false
   },
   "outputs": [
    {
     "name": "stdout",
     "output_type": "stream",
     "text": [
      "Моя              0\n",
      "мама             0\n",
      ",                0\n",
      "Маргарита        0\n",
      ",                0\n",
      "сказала          0\n",
      "мне              0\n",
      "что              0\n",
      "я                0\n",
      "плохой          -1\n",
      "и                0\n",
      "наругала.Зато    0\n",
      "потом            0\n",
      "пришел           0\n",
      "папа             0\n",
      ",                0\n",
      "Георгий          0\n",
      "и                0\n",
      "сказал           0\n",
      "что              0\n",
      "я                0\n",
      "очень            0\n",
      "хороший.Но       0\n",
      "сестра           0\n",
      "не               0\n",
      "знает            0\n",
      "точно            1\n",
      "хороший          1\n",
      "я                0\n",
      ",                0\n",
      "Тима             0\n",
      "или              0\n",
      "плохой          -1\n",
      ".                0\n"
     ]
    }
   ],
   "source": [
    "#Библиотека для скачивания баз\n",
    "from polyglot.downloader import downloader\n",
    "#Объект текста\n",
    "from polyglot.text import Text\n",
    "blob = (\"Моя мама, Маргарита, сказала мне что я плохой и наругала.\" \n",
    "        \"Зато потом пришел папа, Георгий и сказал что я очень хороший.\"\n",
    "        \"Но сестра не знает точно хороший я, Тима или плохой.\")\n",
    "#Текст для анализа\n",
    "text = Text(blob)\n",
    "# first_sentence = text.sentences[0]\n",
    "#Смотрим тональность слов\n",
    "for w in text.words:\n",
    "    print(\"{:<16}{:>2}\".format(w, w.polarity))\n"
   ]
  },
  {
   "cell_type": "code",
   "execution_count": 48,
   "metadata": {
    "collapsed": false
   },
   "outputs": [
    {
     "data": {
      "text/plain": [
       "[I-ORG(['Israeli']), I-PER(['Benjamin', 'Netanyahu']), I-LOC(['Iran'])]"
      ]
     },
     "execution_count": 48,
     "metadata": {},
     "output_type": "execute_result"
    }
   ],
   "source": [
    "#Выжимка сущностей\n",
    "blob = \"\"\"The Israeli Prime Minister Benjamin Netanyahu has warned that Iran poses a \"threat to the entire world\".\"\"\"\n",
    "text = Text(blob)\n",
    "text.entities"
   ]
  },
  {
   "cell_type": "code",
   "execution_count": 52,
   "metadata": {
    "collapsed": false
   },
   "outputs": [],
   "source": [
    "import spacy\n",
    "en_nlp = spacy.load('en')\n",
    "# en_nlp = spacy.load('ru')\n",
    "doc = en_nlp(\"Apples and oranges are similar. Boots and hippos aren't.\")\n",
    "\n",
    "apples = doc[0]\n",
    "oranges = doc[2]\n",
    "boots = doc[6]\n",
    "hippos = doc[8]\n",
    "\n",
    "assert apples.similarity(oranges) > boots.similarity(hippos)"
   ]
  }
 ],
 "metadata": {
  "kernelspec": {
   "display_name": "Python 3",
   "language": "python",
   "name": "python3"
  },
  "language_info": {
   "codemirror_mode": {
    "name": "ipython",
    "version": 3
   },
   "file_extension": ".py",
   "mimetype": "text/x-python",
   "name": "python",
   "nbconvert_exporter": "python",
   "pygments_lexer": "ipython3",
   "version": "3.5.0"
  }
 },
 "nbformat": 4,
 "nbformat_minor": 0
}
