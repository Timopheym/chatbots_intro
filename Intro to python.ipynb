{
 "cells": [
  {
   "cell_type": "code",
   "execution_count": null,
   "metadata": {
    "collapsed": true
   },
   "outputs": [],
   "source": [
    "#Базовая концепция программирования - переменная (ящин с названием)\n",
    "x = 42 #Может содержать число\n",
    "msg = \"Hey friend\" #может строку"
   ]
  },
  {
   "cell_type": "code",
   "execution_count": null,
   "metadata": {
    "collapsed": false
   },
   "outputs": [],
   "source": [
    "#Базовая операция в программировании - применение оператора\n",
    "a = x + 7\n",
    "a"
   ]
  },
  {
   "cell_type": "code",
   "execution_count": null,
   "metadata": {
    "collapsed": false
   },
   "outputs": [],
   "source": [
    "#Используем готовые решения - функции\n",
    "#Простейшая ф-я print: вывести значение на экран\n",
    "print(msg)\n",
    "print(\"a is: \", a)"
   ]
  },
  {
   "cell_type": "code",
   "execution_count": null,
   "metadata": {
    "collapsed": false
   },
   "outputs": [],
   "source": [
    "#Создаем переменую вне блока\n",
    "answer = ''\n",
    "#Для проверки значения переменной\n",
    "#Используем оператор ветвления\n",
    "#Создаем БЛОК для тела оператора ветвления\n",
    "if (len(msg) > 4): #если\n",
    "    answer = \"You are Leo Tolstoj\" #то\n",
    "else: #иначе\n",
    "    answer = \"Looks like chechov\" #это\n",
    "print (answer) #показать что получилось"
   ]
  },
  {
   "cell_type": "code",
   "execution_count": null,
   "metadata": {
    "collapsed": true
   },
   "outputs": [],
   "source": [
    "#объявляем (создаем) собственную ф-ю\n",
    "def show_i_am_clever(name):\n",
    "    print(name + \" is clever!\")"
   ]
  },
  {
   "cell_type": "code",
   "execution_count": null,
   "metadata": {
    "collapsed": false
   },
   "outputs": [],
   "source": [
    "#Используем созданную нами ф-ю\n",
    "show_i_am_clever(\"Alice\")\n",
    "show_i_am_clever(\"Bob\")"
   ]
  }
 ],
 "metadata": {
  "kernelspec": {
   "display_name": "Python 2",
   "language": "python",
   "name": "python2"
  },
  "language_info": {
   "codemirror_mode": {
    "name": "ipython",
    "version": 2
   },
   "file_extension": ".py",
   "mimetype": "text/x-python",
   "name": "python",
   "nbconvert_exporter": "python",
   "pygments_lexer": "ipython2",
   "version": "2.7.11"
  }
 },
 "nbformat": 4,
 "nbformat_minor": 0
}
